{
 "cells": [
  {
   "cell_type": "code",
   "execution_count": 1,
   "id": "928b1db0",
   "metadata": {},
   "outputs": [],
   "source": [
    "import numpy as np\n",
    "import pandas as pd\n",
    "import matplotlib.pyplot as plt\n",
    "%matplotlib inline\n",
    "import seaborn as sns"
   ]
  },
  {
   "cell_type": "markdown",
   "id": "6c3cc6f3",
   "metadata": {},
   "source": [
    "# Data Analysis of stackoverflow_survey_2021"
   ]
  },
  {
   "cell_type": "code",
   "execution_count": 4,
   "id": "845d5971",
   "metadata": {},
   "outputs": [
    {
     "data": {
      "text/html": [
       "<div>\n",
       "<style scoped>\n",
       "    .dataframe tbody tr th:only-of-type {\n",
       "        vertical-align: middle;\n",
       "    }\n",
       "\n",
       "    .dataframe tbody tr th {\n",
       "        vertical-align: top;\n",
       "    }\n",
       "\n",
       "    .dataframe thead th {\n",
       "        text-align: right;\n",
       "    }\n",
       "</style>\n",
       "<table border=\"1\" class=\"dataframe\">\n",
       "  <thead>\n",
       "    <tr style=\"text-align: right;\">\n",
       "      <th></th>\n",
       "      <th>ResponseId</th>\n",
       "      <th>MainBranch</th>\n",
       "      <th>Employment</th>\n",
       "      <th>Country</th>\n",
       "      <th>US_State</th>\n",
       "      <th>UK_Country</th>\n",
       "      <th>EdLevel</th>\n",
       "      <th>Age1stCode</th>\n",
       "      <th>LearnCode</th>\n",
       "      <th>YearsCode</th>\n",
       "      <th>...</th>\n",
       "      <th>Age</th>\n",
       "      <th>Gender</th>\n",
       "      <th>Trans</th>\n",
       "      <th>Sexuality</th>\n",
       "      <th>Ethnicity</th>\n",
       "      <th>Accessibility</th>\n",
       "      <th>MentalHealth</th>\n",
       "      <th>SurveyLength</th>\n",
       "      <th>SurveyEase</th>\n",
       "      <th>ConvertedCompYearly</th>\n",
       "    </tr>\n",
       "  </thead>\n",
       "  <tbody>\n",
       "    <tr>\n",
       "      <th>0</th>\n",
       "      <td>1</td>\n",
       "      <td>I am a developer by profession</td>\n",
       "      <td>Independent contractor, freelancer, or self-em...</td>\n",
       "      <td>Slovakia</td>\n",
       "      <td>NaN</td>\n",
       "      <td>NaN</td>\n",
       "      <td>Secondary school (e.g. American high school, G...</td>\n",
       "      <td>18 - 24 years</td>\n",
       "      <td>Coding Bootcamp;Other online resources (ex: vi...</td>\n",
       "      <td>NaN</td>\n",
       "      <td>...</td>\n",
       "      <td>25-34 years old</td>\n",
       "      <td>Man</td>\n",
       "      <td>No</td>\n",
       "      <td>Straight / Heterosexual</td>\n",
       "      <td>White or of European descent</td>\n",
       "      <td>None of the above</td>\n",
       "      <td>None of the above</td>\n",
       "      <td>Appropriate in length</td>\n",
       "      <td>Easy</td>\n",
       "      <td>62268.0</td>\n",
       "    </tr>\n",
       "    <tr>\n",
       "      <th>1</th>\n",
       "      <td>2</td>\n",
       "      <td>I am a student who is learning to code</td>\n",
       "      <td>Student, full-time</td>\n",
       "      <td>Netherlands</td>\n",
       "      <td>NaN</td>\n",
       "      <td>NaN</td>\n",
       "      <td>Bachelor’s degree (B.A., B.S., B.Eng., etc.)</td>\n",
       "      <td>11 - 17 years</td>\n",
       "      <td>Other online resources (ex: videos, blogs, etc...</td>\n",
       "      <td>7</td>\n",
       "      <td>...</td>\n",
       "      <td>18-24 years old</td>\n",
       "      <td>Man</td>\n",
       "      <td>No</td>\n",
       "      <td>Straight / Heterosexual</td>\n",
       "      <td>White or of European descent</td>\n",
       "      <td>None of the above</td>\n",
       "      <td>None of the above</td>\n",
       "      <td>Appropriate in length</td>\n",
       "      <td>Easy</td>\n",
       "      <td>NaN</td>\n",
       "    </tr>\n",
       "    <tr>\n",
       "      <th>2</th>\n",
       "      <td>3</td>\n",
       "      <td>I am not primarily a developer, but I write co...</td>\n",
       "      <td>Student, full-time</td>\n",
       "      <td>Russian Federation</td>\n",
       "      <td>NaN</td>\n",
       "      <td>NaN</td>\n",
       "      <td>Bachelor’s degree (B.A., B.S., B.Eng., etc.)</td>\n",
       "      <td>11 - 17 years</td>\n",
       "      <td>Other online resources (ex: videos, blogs, etc...</td>\n",
       "      <td>NaN</td>\n",
       "      <td>...</td>\n",
       "      <td>18-24 years old</td>\n",
       "      <td>Man</td>\n",
       "      <td>No</td>\n",
       "      <td>Prefer not to say</td>\n",
       "      <td>Prefer not to say</td>\n",
       "      <td>None of the above</td>\n",
       "      <td>None of the above</td>\n",
       "      <td>Appropriate in length</td>\n",
       "      <td>Easy</td>\n",
       "      <td>NaN</td>\n",
       "    </tr>\n",
       "    <tr>\n",
       "      <th>3</th>\n",
       "      <td>4</td>\n",
       "      <td>I am a developer by profession</td>\n",
       "      <td>Employed full-time</td>\n",
       "      <td>Austria</td>\n",
       "      <td>NaN</td>\n",
       "      <td>NaN</td>\n",
       "      <td>Master’s degree (M.A., M.S., M.Eng., MBA, etc.)</td>\n",
       "      <td>11 - 17 years</td>\n",
       "      <td>NaN</td>\n",
       "      <td>NaN</td>\n",
       "      <td>...</td>\n",
       "      <td>35-44 years old</td>\n",
       "      <td>Man</td>\n",
       "      <td>No</td>\n",
       "      <td>Straight / Heterosexual</td>\n",
       "      <td>White or of European descent</td>\n",
       "      <td>I am deaf / hard of hearing</td>\n",
       "      <td>NaN</td>\n",
       "      <td>Appropriate in length</td>\n",
       "      <td>Neither easy nor difficult</td>\n",
       "      <td>NaN</td>\n",
       "    </tr>\n",
       "    <tr>\n",
       "      <th>4</th>\n",
       "      <td>5</td>\n",
       "      <td>I am a developer by profession</td>\n",
       "      <td>Independent contractor, freelancer, or self-em...</td>\n",
       "      <td>United Kingdom of Great Britain and Northern I...</td>\n",
       "      <td>NaN</td>\n",
       "      <td>England</td>\n",
       "      <td>Master’s degree (M.A., M.S., M.Eng., MBA, etc.)</td>\n",
       "      <td>5 - 10 years</td>\n",
       "      <td>Friend or family member</td>\n",
       "      <td>17</td>\n",
       "      <td>...</td>\n",
       "      <td>25-34 years old</td>\n",
       "      <td>Man</td>\n",
       "      <td>No</td>\n",
       "      <td>NaN</td>\n",
       "      <td>White or of European descent</td>\n",
       "      <td>None of the above</td>\n",
       "      <td>NaN</td>\n",
       "      <td>Appropriate in length</td>\n",
       "      <td>Easy</td>\n",
       "      <td>NaN</td>\n",
       "    </tr>\n",
       "    <tr>\n",
       "      <th>5</th>\n",
       "      <td>6</td>\n",
       "      <td>I am a student who is learning to code</td>\n",
       "      <td>Student, part-time</td>\n",
       "      <td>United States of America</td>\n",
       "      <td>Georgia</td>\n",
       "      <td>NaN</td>\n",
       "      <td>Bachelor’s degree (B.A., B.S., B.Eng., etc.)</td>\n",
       "      <td>11 - 17 years</td>\n",
       "      <td>Other online resources (ex: videos, blogs, etc...</td>\n",
       "      <td>NaN</td>\n",
       "      <td>...</td>\n",
       "      <td>18-24 years old</td>\n",
       "      <td>Prefer not to say</td>\n",
       "      <td>No</td>\n",
       "      <td>Straight / Heterosexual</td>\n",
       "      <td>Prefer not to say</td>\n",
       "      <td>None of the above</td>\n",
       "      <td>I have a concentration and/or memory disorder ...</td>\n",
       "      <td>Too long</td>\n",
       "      <td>Neither easy nor difficult</td>\n",
       "      <td>NaN</td>\n",
       "    </tr>\n",
       "    <tr>\n",
       "      <th>6</th>\n",
       "      <td>7</td>\n",
       "      <td>I code primarily as a hobby</td>\n",
       "      <td>I prefer not to say</td>\n",
       "      <td>United States of America</td>\n",
       "      <td>New Hampshire</td>\n",
       "      <td>NaN</td>\n",
       "      <td>Secondary school (e.g. American high school, G...</td>\n",
       "      <td>11 - 17 years</td>\n",
       "      <td>Other online resources (ex: videos, blogs, etc...</td>\n",
       "      <td>3</td>\n",
       "      <td>...</td>\n",
       "      <td>Prefer not to say</td>\n",
       "      <td>Prefer not to say</td>\n",
       "      <td>No</td>\n",
       "      <td>NaN</td>\n",
       "      <td>I don't know</td>\n",
       "      <td>None of the above</td>\n",
       "      <td>None of the above</td>\n",
       "      <td>Appropriate in length</td>\n",
       "      <td>Neither easy nor difficult</td>\n",
       "      <td>NaN</td>\n",
       "    </tr>\n",
       "    <tr>\n",
       "      <th>7</th>\n",
       "      <td>8</td>\n",
       "      <td>I am a student who is learning to code</td>\n",
       "      <td>Student, full-time</td>\n",
       "      <td>Malaysia</td>\n",
       "      <td>NaN</td>\n",
       "      <td>NaN</td>\n",
       "      <td>Bachelor’s degree (B.A., B.S., B.Eng., etc.)</td>\n",
       "      <td>11 - 17 years</td>\n",
       "      <td>School;Online Courses or Certification</td>\n",
       "      <td>4</td>\n",
       "      <td>...</td>\n",
       "      <td>18-24 years old</td>\n",
       "      <td>Woman</td>\n",
       "      <td>No</td>\n",
       "      <td>Straight / Heterosexual</td>\n",
       "      <td>White or of European descent;Multiracial;South...</td>\n",
       "      <td>None of the above</td>\n",
       "      <td>None of the above</td>\n",
       "      <td>Appropriate in length</td>\n",
       "      <td>Easy</td>\n",
       "      <td>NaN</td>\n",
       "    </tr>\n",
       "    <tr>\n",
       "      <th>8</th>\n",
       "      <td>9</td>\n",
       "      <td>I am a developer by profession</td>\n",
       "      <td>Employed part-time</td>\n",
       "      <td>India</td>\n",
       "      <td>NaN</td>\n",
       "      <td>NaN</td>\n",
       "      <td>Bachelor’s degree (B.A., B.S., B.Eng., etc.)</td>\n",
       "      <td>18 - 24 years</td>\n",
       "      <td>Coding Bootcamp</td>\n",
       "      <td>6</td>\n",
       "      <td>...</td>\n",
       "      <td>25-34 years old</td>\n",
       "      <td>Man</td>\n",
       "      <td>No</td>\n",
       "      <td>NaN</td>\n",
       "      <td>South Asian</td>\n",
       "      <td>NaN</td>\n",
       "      <td>I have a concentration and/or memory disorder ...</td>\n",
       "      <td>Appropriate in length</td>\n",
       "      <td>Easy</td>\n",
       "      <td>NaN</td>\n",
       "    </tr>\n",
       "    <tr>\n",
       "      <th>9</th>\n",
       "      <td>10</td>\n",
       "      <td>I am a developer by profession</td>\n",
       "      <td>Employed full-time</td>\n",
       "      <td>Sweden</td>\n",
       "      <td>NaN</td>\n",
       "      <td>NaN</td>\n",
       "      <td>Master’s degree (M.A., M.S., M.Eng., MBA, etc.)</td>\n",
       "      <td>11 - 17 years</td>\n",
       "      <td>School</td>\n",
       "      <td>7</td>\n",
       "      <td>...</td>\n",
       "      <td>25-34 years old</td>\n",
       "      <td>Man</td>\n",
       "      <td>No</td>\n",
       "      <td>Straight / Heterosexual</td>\n",
       "      <td>White or of European descent</td>\n",
       "      <td>None of the above</td>\n",
       "      <td>None of the above</td>\n",
       "      <td>Appropriate in length</td>\n",
       "      <td>Neither easy nor difficult</td>\n",
       "      <td>51552.0</td>\n",
       "    </tr>\n",
       "  </tbody>\n",
       "</table>\n",
       "<p>10 rows × 48 columns</p>\n",
       "</div>"
      ],
      "text/plain": [
       "   ResponseId                                         MainBranch  \\\n",
       "0           1                     I am a developer by profession   \n",
       "1           2             I am a student who is learning to code   \n",
       "2           3  I am not primarily a developer, but I write co...   \n",
       "3           4                     I am a developer by profession   \n",
       "4           5                     I am a developer by profession   \n",
       "5           6             I am a student who is learning to code   \n",
       "6           7                        I code primarily as a hobby   \n",
       "7           8             I am a student who is learning to code   \n",
       "8           9                     I am a developer by profession   \n",
       "9          10                     I am a developer by profession   \n",
       "\n",
       "                                          Employment  \\\n",
       "0  Independent contractor, freelancer, or self-em...   \n",
       "1                                 Student, full-time   \n",
       "2                                 Student, full-time   \n",
       "3                                 Employed full-time   \n",
       "4  Independent contractor, freelancer, or self-em...   \n",
       "5                                 Student, part-time   \n",
       "6                                I prefer not to say   \n",
       "7                                 Student, full-time   \n",
       "8                                 Employed part-time   \n",
       "9                                 Employed full-time   \n",
       "\n",
       "                                             Country       US_State  \\\n",
       "0                                           Slovakia            NaN   \n",
       "1                                        Netherlands            NaN   \n",
       "2                                 Russian Federation            NaN   \n",
       "3                                            Austria            NaN   \n",
       "4  United Kingdom of Great Britain and Northern I...            NaN   \n",
       "5                           United States of America        Georgia   \n",
       "6                           United States of America  New Hampshire   \n",
       "7                                           Malaysia            NaN   \n",
       "8                                              India            NaN   \n",
       "9                                             Sweden            NaN   \n",
       "\n",
       "  UK_Country                                            EdLevel  \\\n",
       "0        NaN  Secondary school (e.g. American high school, G...   \n",
       "1        NaN       Bachelor’s degree (B.A., B.S., B.Eng., etc.)   \n",
       "2        NaN       Bachelor’s degree (B.A., B.S., B.Eng., etc.)   \n",
       "3        NaN    Master’s degree (M.A., M.S., M.Eng., MBA, etc.)   \n",
       "4    England    Master’s degree (M.A., M.S., M.Eng., MBA, etc.)   \n",
       "5        NaN       Bachelor’s degree (B.A., B.S., B.Eng., etc.)   \n",
       "6        NaN  Secondary school (e.g. American high school, G...   \n",
       "7        NaN       Bachelor’s degree (B.A., B.S., B.Eng., etc.)   \n",
       "8        NaN       Bachelor’s degree (B.A., B.S., B.Eng., etc.)   \n",
       "9        NaN    Master’s degree (M.A., M.S., M.Eng., MBA, etc.)   \n",
       "\n",
       "      Age1stCode                                          LearnCode YearsCode  \\\n",
       "0  18 - 24 years  Coding Bootcamp;Other online resources (ex: vi...       NaN   \n",
       "1  11 - 17 years  Other online resources (ex: videos, blogs, etc...         7   \n",
       "2  11 - 17 years  Other online resources (ex: videos, blogs, etc...       NaN   \n",
       "3  11 - 17 years                                                NaN       NaN   \n",
       "4   5 - 10 years                            Friend or family member        17   \n",
       "5  11 - 17 years  Other online resources (ex: videos, blogs, etc...       NaN   \n",
       "6  11 - 17 years  Other online resources (ex: videos, blogs, etc...         3   \n",
       "7  11 - 17 years             School;Online Courses or Certification         4   \n",
       "8  18 - 24 years                                    Coding Bootcamp         6   \n",
       "9  11 - 17 years                                             School         7   \n",
       "\n",
       "   ...                Age             Gender Trans                Sexuality  \\\n",
       "0  ...    25-34 years old                Man    No  Straight / Heterosexual   \n",
       "1  ...    18-24 years old                Man    No  Straight / Heterosexual   \n",
       "2  ...    18-24 years old                Man    No        Prefer not to say   \n",
       "3  ...    35-44 years old                Man    No  Straight / Heterosexual   \n",
       "4  ...    25-34 years old                Man    No                      NaN   \n",
       "5  ...    18-24 years old  Prefer not to say    No  Straight / Heterosexual   \n",
       "6  ...  Prefer not to say  Prefer not to say    No                      NaN   \n",
       "7  ...    18-24 years old              Woman    No  Straight / Heterosexual   \n",
       "8  ...    25-34 years old                Man    No                      NaN   \n",
       "9  ...    25-34 years old                Man    No  Straight / Heterosexual   \n",
       "\n",
       "                                           Ethnicity  \\\n",
       "0                       White or of European descent   \n",
       "1                       White or of European descent   \n",
       "2                                  Prefer not to say   \n",
       "3                       White or of European descent   \n",
       "4                       White or of European descent   \n",
       "5                                  Prefer not to say   \n",
       "6                                       I don't know   \n",
       "7  White or of European descent;Multiracial;South...   \n",
       "8                                        South Asian   \n",
       "9                       White or of European descent   \n",
       "\n",
       "                 Accessibility  \\\n",
       "0            None of the above   \n",
       "1            None of the above   \n",
       "2            None of the above   \n",
       "3  I am deaf / hard of hearing   \n",
       "4            None of the above   \n",
       "5            None of the above   \n",
       "6            None of the above   \n",
       "7            None of the above   \n",
       "8                          NaN   \n",
       "9            None of the above   \n",
       "\n",
       "                                        MentalHealth           SurveyLength  \\\n",
       "0                                  None of the above  Appropriate in length   \n",
       "1                                  None of the above  Appropriate in length   \n",
       "2                                  None of the above  Appropriate in length   \n",
       "3                                                NaN  Appropriate in length   \n",
       "4                                                NaN  Appropriate in length   \n",
       "5  I have a concentration and/or memory disorder ...               Too long   \n",
       "6                                  None of the above  Appropriate in length   \n",
       "7                                  None of the above  Appropriate in length   \n",
       "8  I have a concentration and/or memory disorder ...  Appropriate in length   \n",
       "9                                  None of the above  Appropriate in length   \n",
       "\n",
       "                   SurveyEase ConvertedCompYearly  \n",
       "0                        Easy             62268.0  \n",
       "1                        Easy                 NaN  \n",
       "2                        Easy                 NaN  \n",
       "3  Neither easy nor difficult                 NaN  \n",
       "4                        Easy                 NaN  \n",
       "5  Neither easy nor difficult                 NaN  \n",
       "6  Neither easy nor difficult                 NaN  \n",
       "7                        Easy                 NaN  \n",
       "8                        Easy                 NaN  \n",
       "9  Neither easy nor difficult             51552.0  \n",
       "\n",
       "[10 rows x 48 columns]"
      ]
     },
     "execution_count": 4,
     "metadata": {},
     "output_type": "execute_result"
    }
   ],
   "source": [
    "df = pd.read_csv(r'/home/hp/Desktop/stack_overflow/stack-overflow-developer-survey-2021/survey_results_public_2021.csv')\n",
    "df.head(10)"
   ]
  },
  {
   "cell_type": "code",
   "execution_count": 5,
   "id": "b8b8acc3",
   "metadata": {},
   "outputs": [],
   "source": [
    "#drop unnecessary columns\n",
    "drop_cols = ['Age1stCode','CompFreq', 'NEWCollabToolsHaveWorkedWith', 'NEWCollabToolsWantToWorkWith', 'OpSys', 'NEWStuck', 'NEWSOSites',\n",
    "             'OrgSize', 'PlatformHaveWorkedWith', 'PlatformWantToWorkWith', 'WebframeHaveWorkedWith', 'WebframeWantToWorkWith', 'MiscTechHaveWorkedWith', \n",
    "             'MiscTechWantToWorkWith', 'ToolsTechHaveWorkedWith', 'ToolsTechWantToWorkWith'\n",
    "             ,'NEWStuck', 'NEWSOSites', 'SOVisitFreq', 'SOAccount', 'SOPartFreq', 'SOComm', 'NEWOtherComms', 'Sexuality', 'SurveyEase', \n",
    "             'SurveyLength', 'Trans', 'YearsCode']\n",
    "df.drop(drop_cols, axis=1, inplace=True)"
   ]
  },
  {
   "cell_type": "code",
   "execution_count": 6,
   "id": "d5cb45a9",
   "metadata": {},
   "outputs": [],
   "source": [
    "#Selecting only the required columns for analysis\n",
    "cols =['Age','Gender', 'Country', 'DevType', 'EdLevel','Currency', 'CompTotal', 'Employment', \n",
    "       'Ethnicity', 'LanguageHaveWorkedWith', 'LanguageWantToWorkWith', 'MainBranch','MentalHealth', 'YearsCodePro']\n",
    "df_2021 = df[cols]\n",
    "#df_2021.head()\n",
    "#df_2021.dtypes"
   ]
  },
  {
   "cell_type": "code",
   "execution_count": 7,
   "id": "70502eb1",
   "metadata": {},
   "outputs": [
    {
     "name": "stderr",
     "output_type": "stream",
     "text": [
      "/tmp/ipykernel_39208/3423935300.py:5: SettingWithCopyWarning: \n",
      "A value is trying to be set on a copy of a slice from a DataFrame\n",
      "\n",
      "See the caveats in the documentation: https://pandas.pydata.org/pandas-docs/stable/user_guide/indexing.html#returning-a-view-versus-a-copy\n",
      "  df_2021.rename(columns={'MainBranch': 'Profession', 'CompTotal': 'SalaryUSD'},inplace =True)\n"
     ]
    }
   ],
   "source": [
    "#changing the name of columns for easier understanding\n",
    "#'MainBranch': 'Profession'\n",
    "#'CompTotal': 'SalaryUSD'\n",
    "\n",
    "df_2021.rename(columns={'MainBranch': 'Profession', 'CompTotal': 'SalaryUSD'},inplace =True)\n"
   ]
  },
  {
   "cell_type": "code",
   "execution_count": 8,
   "id": "1cf46469",
   "metadata": {},
   "outputs": [
    {
     "name": "stdout",
     "output_type": "stream",
     "text": [
      "Age                        1032\n",
      "Gender                     1153\n",
      "Country                       0\n",
      "DevType                   16955\n",
      "EdLevel                     313\n",
      "Currency                  22359\n",
      "SalaryUSD                 36256\n",
      "Employment                  116\n",
      "Ethnicity                  3975\n",
      "LanguageHaveWorkedWith     1082\n",
      "LanguageWantToWorkWith     6618\n",
      "Profession                    0\n",
      "MentalHealth               6519\n",
      "YearsCodePro              22223\n",
      "dtype: int64\n"
     ]
    }
   ],
   "source": [
    "print(df_2021.isnull().sum())"
   ]
  },
  {
   "cell_type": "markdown",
   "id": "d75d6f49",
   "metadata": {},
   "source": [
    "## Data Validation - Total Cells vs Missing %"
   ]
  },
  {
   "cell_type": "code",
   "execution_count": 10,
   "id": "b485514e",
   "metadata": {},
   "outputs": [
    {
     "name": "stdout",
     "output_type": "stream",
     "text": [
      "Total cell:  1168146\n",
      "Total missing values:  348081\n",
      "Missing:  29.797730763106667 %\n"
     ]
    }
   ],
   "source": [
    "#Finding % of missing data\n",
    "missing_count = df.isnull().sum() #number of missing\n",
    "total_cells = np.product(df_2021.shape) # number of cells (cols x rows)\n",
    "total_missing = missing_count.sum()\n",
    "missing_percent = (total_missing*100)/total_cells\n",
    "\n",
    "print('Total cell: ', total_cells)\n",
    "print('Total missing values: ', total_missing)\n",
    "print('Missing: ', missing_percent, '%')"
   ]
  },
  {
   "cell_type": "markdown",
   "id": "f3e59657",
   "metadata": {},
   "source": [
    "## Gender"
   ]
  },
  {
   "cell_type": "code",
   "execution_count": 11,
   "id": "8a1c1a33",
   "metadata": {},
   "outputs": [
    {
     "data": {
      "text/plain": [
       "1153"
      ]
     },
     "execution_count": 11,
     "metadata": {},
     "output_type": "execute_result"
    }
   ],
   "source": [
    "df_2021['Gender'].isnull().sum()"
   ]
  },
  {
   "cell_type": "code",
   "execution_count": 12,
   "id": "26c845b2",
   "metadata": {},
   "outputs": [
    {
     "name": "stdout",
     "output_type": "stream",
     "text": [
      "Gender\n",
      "Man                                                                                   74817\n",
      "Woman                                                                                  4120\n",
      "Prefer not to say                                                                      1442\n",
      "Non-binary, genderqueer, or gender non-conforming                                       690\n",
      "Or, in your own words:                                                                  413\n",
      "Man;Or, in your own words:                                                              268\n",
      "Man;Non-binary, genderqueer, or gender non-conforming                                   252\n",
      "Woman;Non-binary, genderqueer, or gender non-conforming                                 147\n",
      "Man;Woman                                                                                41\n",
      "Non-binary, genderqueer, or gender non-conforming;Or, in your own words:                 21\n",
      "Man;Woman;Non-binary, genderqueer, or gender non-conforming                              21\n",
      "Man;Woman;Non-binary, genderqueer, or gender non-conforming;Or, in your own words:       17\n",
      "Woman;Or, in your own words:                                                             16\n",
      "Man;Non-binary, genderqueer, or gender non-conforming;Or, in your own words:             11\n",
      "Woman;Non-binary, genderqueer, or gender non-conforming;Or, in your own words:            9\n",
      "Man;Woman;Or, in your own words:                                                          1\n",
      "Name: count, dtype: int64\n"
     ]
    }
   ],
   "source": [
    "#Counting number of each gender\n",
    "print(df_2021['Gender'].value_counts())"
   ]
  },
  {
   "cell_type": "code",
   "execution_count": 13,
   "id": "b4de3e25",
   "metadata": {},
   "outputs": [
    {
     "name": "stderr",
     "output_type": "stream",
     "text": [
      "/tmp/ipykernel_39208/3527603516.py:2: SettingWithCopyWarning: \n",
      "A value is trying to be set on a copy of a slice from a DataFrame.\n",
      "Try using .loc[row_indexer,col_indexer] = value instead\n",
      "\n",
      "See the caveats in the documentation: https://pandas.pydata.org/pandas-docs/stable/user_guide/indexing.html#returning-a-view-versus-a-copy\n",
      "  df_2021['Gender'] = df['Gender'].fillna('Non-binary')\n",
      "/tmp/ipykernel_39208/3527603516.py:5: SettingWithCopyWarning: \n",
      "A value is trying to be set on a copy of a slice from a DataFrame\n",
      "\n",
      "See the caveats in the documentation: https://pandas.pydata.org/pandas-docs/stable/user_guide/indexing.html#returning-a-view-versus-a-copy\n",
      "  df_2021['Gender'].replace('Man;Or, in your own words', 'Man', inplace =True)\n",
      "/tmp/ipykernel_39208/3527603516.py:7: SettingWithCopyWarning: \n",
      "A value is trying to be set on a copy of a slice from a DataFrame\n",
      "\n",
      "See the caveats in the documentation: https://pandas.pydata.org/pandas-docs/stable/user_guide/indexing.html#returning-a-view-versus-a-copy\n",
      "  df_2021['Gender'].replace('Man;Non-binary, genderqueer, or gender non-conforming', 'Man', inplace =True)\n",
      "/tmp/ipykernel_39208/3527603516.py:8: SettingWithCopyWarning: \n",
      "A value is trying to be set on a copy of a slice from a DataFrame\n",
      "\n",
      "See the caveats in the documentation: https://pandas.pydata.org/pandas-docs/stable/user_guide/indexing.html#returning-a-view-versus-a-copy\n",
      "  df_2021['Gender'].replace('Man;Non-binary, genderqueer, or gender non-conforming;Or, in your own words', 'Man', inplace =True)\n",
      "/tmp/ipykernel_39208/3527603516.py:9: SettingWithCopyWarning: \n",
      "A value is trying to be set on a copy of a slice from a DataFrame\n",
      "\n",
      "See the caveats in the documentation: https://pandas.pydata.org/pandas-docs/stable/user_guide/indexing.html#returning-a-view-versus-a-copy\n",
      "  df_2021['Gender'].replace('Man;Non-binary, genderqueer, or gender non-conforming;Or, in your own words:', 'Man', inplace =True)\n",
      "/tmp/ipykernel_39208/3527603516.py:10: SettingWithCopyWarning: \n",
      "A value is trying to be set on a copy of a slice from a DataFrame\n",
      "\n",
      "See the caveats in the documentation: https://pandas.pydata.org/pandas-docs/stable/user_guide/indexing.html#returning-a-view-versus-a-copy\n",
      "  df_2021['Gender'].replace('Woman;Non-binary, genderqueer, or gender non-conforming', 'Woman', inplace =True)\n",
      "/tmp/ipykernel_39208/3527603516.py:11: SettingWithCopyWarning: \n",
      "A value is trying to be set on a copy of a slice from a DataFrame\n",
      "\n",
      "See the caveats in the documentation: https://pandas.pydata.org/pandas-docs/stable/user_guide/indexing.html#returning-a-view-versus-a-copy\n",
      "  df_2021['Gender'].replace('Woman;Non-binary, genderqueer, or gender non-conforming;Or, in your own words:', 'Woman', inplace =True)\n",
      "/tmp/ipykernel_39208/3527603516.py:12: SettingWithCopyWarning: \n",
      "A value is trying to be set on a copy of a slice from a DataFrame\n",
      "\n",
      "See the caveats in the documentation: https://pandas.pydata.org/pandas-docs/stable/user_guide/indexing.html#returning-a-view-versus-a-copy\n",
      "  df_2021['Gender'].replace('Woman;Or, in your own words:', 'Woman', inplace =True)\n",
      "/tmp/ipykernel_39208/3527603516.py:13: SettingWithCopyWarning: \n",
      "A value is trying to be set on a copy of a slice from a DataFrame\n",
      "\n",
      "See the caveats in the documentation: https://pandas.pydata.org/pandas-docs/stable/user_guide/indexing.html#returning-a-view-versus-a-copy\n",
      "  df_2021['Gender'].replace('Man;Woman', 'Non-binary', inplace =True)\n",
      "/tmp/ipykernel_39208/3527603516.py:14: SettingWithCopyWarning: \n",
      "A value is trying to be set on a copy of a slice from a DataFrame\n",
      "\n",
      "See the caveats in the documentation: https://pandas.pydata.org/pandas-docs/stable/user_guide/indexing.html#returning-a-view-versus-a-copy\n",
      "  df_2021['Gender'].replace('Man;Woman;Non-binary, genderqueer, or gender non-conforming', 'Non-binary', inplace =True)\n",
      "/tmp/ipykernel_39208/3527603516.py:15: SettingWithCopyWarning: \n",
      "A value is trying to be set on a copy of a slice from a DataFrame\n",
      "\n",
      "See the caveats in the documentation: https://pandas.pydata.org/pandas-docs/stable/user_guide/indexing.html#returning-a-view-versus-a-copy\n",
      "  df_2021['Gender'].replace('Man;Woman;Non-binary, genderqueer, or gender non-conforming;Or, in your own words:', 'Non-binary', inplace =True)\n",
      "/tmp/ipykernel_39208/3527603516.py:16: SettingWithCopyWarning: \n",
      "A value is trying to be set on a copy of a slice from a DataFrame\n",
      "\n",
      "See the caveats in the documentation: https://pandas.pydata.org/pandas-docs/stable/user_guide/indexing.html#returning-a-view-versus-a-copy\n",
      "  df_2021['Gender'].replace('Man;Woman;Or, in your own words:', 'Non-binary', inplace =True)\n",
      "/tmp/ipykernel_39208/3527603516.py:17: SettingWithCopyWarning: \n",
      "A value is trying to be set on a copy of a slice from a DataFrame\n",
      "\n",
      "See the caveats in the documentation: https://pandas.pydata.org/pandas-docs/stable/user_guide/indexing.html#returning-a-view-versus-a-copy\n",
      "  df_2021['Gender'].replace('Prefer not to say', 'Non-binary', inplace =True)\n",
      "/tmp/ipykernel_39208/3527603516.py:18: SettingWithCopyWarning: \n",
      "A value is trying to be set on a copy of a slice from a DataFrame\n",
      "\n",
      "See the caveats in the documentation: https://pandas.pydata.org/pandas-docs/stable/user_guide/indexing.html#returning-a-view-versus-a-copy\n",
      "  df_2021['Gender'].replace('Non-binary, genderqueer, or gender non-conforming;Or, in your own words:', 'Non-binary', inplace =True)\n",
      "/tmp/ipykernel_39208/3527603516.py:19: SettingWithCopyWarning: \n",
      "A value is trying to be set on a copy of a slice from a DataFrame\n",
      "\n",
      "See the caveats in the documentation: https://pandas.pydata.org/pandas-docs/stable/user_guide/indexing.html#returning-a-view-versus-a-copy\n",
      "  df_2021['Gender'].replace('Or, in your own words:', 'Non-binary', inplace =True)\n",
      "/tmp/ipykernel_39208/3527603516.py:20: SettingWithCopyWarning: \n",
      "A value is trying to be set on a copy of a slice from a DataFrame\n",
      "\n",
      "See the caveats in the documentation: https://pandas.pydata.org/pandas-docs/stable/user_guide/indexing.html#returning-a-view-versus-a-copy\n",
      "  df_2021['Gender'].replace('Non-binary, genderqueer, or gender non-conforming', 'Non-binary', inplace =True)\n"
     ]
    }
   ],
   "source": [
    "#Assigining the surveyors who havent mentioned their gender to Non-Binary category\n",
    "df_2021['Gender'] = df['Gender'].fillna('Non-binary') \n",
    "\n",
    "#Grouping genders into 3 groups Man, Womanand Non-binary\n",
    "df_2021['Gender'].replace('Man;Or, in your own words', 'Man', inplace =True)\n",
    "df_2021['Gender'].replace('Man;Or, in your own words:', inplace =True)\n",
    "df_2021['Gender'].replace('Man;Non-binary, genderqueer, or gender non-conforming', 'Man', inplace =True)\n",
    "df_2021['Gender'].replace('Man;Non-binary, genderqueer, or gender non-conforming;Or, in your own words', 'Man', inplace =True)\n",
    "df_2021['Gender'].replace('Man;Non-binary, genderqueer, or gender non-conforming;Or, in your own words:', 'Man', inplace =True)\n",
    "df_2021['Gender'].replace('Woman;Non-binary, genderqueer, or gender non-conforming', 'Woman', inplace =True)\n",
    "df_2021['Gender'].replace('Woman;Non-binary, genderqueer, or gender non-conforming;Or, in your own words:', 'Woman', inplace =True)\n",
    "df_2021['Gender'].replace('Woman;Or, in your own words:', 'Woman', inplace =True)\n",
    "df_2021['Gender'].replace('Man;Woman', 'Non-binary', inplace =True)\n",
    "df_2021['Gender'].replace('Man;Woman;Non-binary, genderqueer, or gender non-conforming', 'Non-binary', inplace =True)\n",
    "df_2021['Gender'].replace('Man;Woman;Non-binary, genderqueer, or gender non-conforming;Or, in your own words:', 'Non-binary', inplace =True)\n",
    "df_2021['Gender'].replace('Man;Woman;Or, in your own words:', 'Non-binary', inplace =True)\n",
    "df_2021['Gender'].replace('Prefer not to say', 'Non-binary', inplace =True)\n",
    "df_2021['Gender'].replace('Non-binary, genderqueer, or gender non-conforming;Or, in your own words:', 'Non-binary', inplace =True)\n",
    "df_2021['Gender'].replace('Or, in your own words:', 'Non-binary', inplace =True)\n",
    "df_2021['Gender'].replace('Non-binary, genderqueer, or gender non-conforming', 'Non-binary', inplace =True)"
   ]
  },
  {
   "cell_type": "code",
   "execution_count": 14,
   "id": "4dc868b0",
   "metadata": {},
   "outputs": [
    {
     "data": {
      "text/plain": [
       "Gender\n",
       "Man           75314\n",
       "Non-binary     3812\n",
       "Woman          4313\n",
       "Name: Gender, dtype: int64"
      ]
     },
     "execution_count": 14,
     "metadata": {},
     "output_type": "execute_result"
    }
   ],
   "source": [
    "#Counting number of each gender after\n",
    "df_2021.groupby('Gender')['Gender'].count()"
   ]
  },
  {
   "cell_type": "code",
   "execution_count": 15,
   "id": "d57e610d",
   "metadata": {},
   "outputs": [
    {
     "name": "stdout",
     "output_type": "stream",
     "text": [
      "df shape after clean Gender:  (83439, 14)\n"
     ]
    }
   ],
   "source": [
    "print('df shape after clean Gender: ', df_2021.shape)"
   ]
  },
  {
   "cell_type": "markdown",
   "id": "5ad3b80a",
   "metadata": {},
   "source": [
    "## Age"
   ]
  },
  {
   "cell_type": "code",
   "execution_count": 17,
   "id": "0bc8e6d4",
   "metadata": {},
   "outputs": [
    {
     "data": {
      "text/plain": [
       "1032"
      ]
     },
     "execution_count": 17,
     "metadata": {},
     "output_type": "execute_result"
    }
   ],
   "source": [
    "df_2021['Age'].isnull().sum()"
   ]
  },
  {
   "cell_type": "code",
   "execution_count": 18,
   "id": "1697b70d",
   "metadata": {},
   "outputs": [
    {
     "data": {
      "text/plain": [
       "Text(0.5, 0, 'Approx Age')"
      ]
     },
     "execution_count": 18,
     "metadata": {},
     "output_type": "execute_result"
    },
    {
     "data": {
      "image/png": "[encoded data removed]",
      "text/plain": [
       "<Figure size 1600x600 with 1 Axes>"
      ]
     },
     "metadata": {},
     "output_type": "display_data"
    }
   ],
   "source": [
    "plt.figure(figsize=(16,6))\n",
    "plt.title(\"Programmer's Age\")\n",
    "sns.countplot(x = \"Age\", data = df_2021, order = df_2021['Age'].value_counts().index[ : ], ).set_xlabel(\"Approx Age\")"
   ]
  },
  {
   "cell_type": "markdown",
   "id": "35f846ba",
   "metadata": {},
   "source": [
    "## EdLevel"
   ]
  },
  {
   "cell_type": "code",
   "execution_count": 19,
   "id": "1d181b9c",
   "metadata": {},
   "outputs": [
    {
     "data": {
      "text/plain": [
       "313"
      ]
     },
     "execution_count": 19,
     "metadata": {},
     "output_type": "execute_result"
    }
   ],
   "source": [
    "df_2021['EdLevel'].isnull().sum()"
   ]
  },
  {
   "cell_type": "code",
   "execution_count": 20,
   "id": "f14c8ba4",
   "metadata": {},
   "outputs": [
    {
     "data": {
      "text/plain": [
       "EdLevel\n",
       "Bachelor’s degree (B.A., B.S., B.Eng., etc.)                                          35357\n",
       "Master’s degree (M.A., M.S., M.Eng., MBA, etc.)                                       17512\n",
       "Some college/university study without earning a degree                                10589\n",
       "Secondary school (e.g. American high school, German Realschule or Gymnasium, etc.)     9534\n",
       "Other doctoral degree (Ph.D., Ed.D., etc.)                                             2567\n",
       "Primary/elementary school                                                              2479\n",
       "Associate degree (A.A., A.S., etc.)                                                    2231\n",
       "Something else                                                                         1601\n",
       "Professional degree (JD, MD, etc.)                                                     1256\n",
       "Name: count, dtype: int64"
      ]
     },
     "execution_count": 20,
     "metadata": {},
     "output_type": "execute_result"
    }
   ],
   "source": [
    "df_2021['EdLevel'].value_counts()"
   ]
  },
  {
   "cell_type": "code",
   "execution_count": 21,
   "id": "0af5751f",
   "metadata": {},
   "outputs": [
    {
     "name": "stderr",
     "output_type": "stream",
     "text": [
      "/tmp/ipykernel_39208/585663171.py:15: SettingWithCopyWarning: \n",
      "A value is trying to be set on a copy of a slice from a DataFrame.\n",
      "Try using .loc[row_indexer,col_indexer] = value instead\n",
      "\n",
      "See the caveats in the documentation: https://pandas.pydata.org/pandas-docs/stable/user_guide/indexing.html#returning-a-view-versus-a-copy\n",
      "  df['EdLevel'] = np.select(conditions_ed, choices_ed, default = np.NaN)\n",
      "/tmp/ipykernel_39208/585663171.py:21: SettingWithCopyWarning: \n",
      "A value is trying to be set on a copy of a slice from a DataFrame\n",
      "\n",
      "See the caveats in the documentation: https://pandas.pydata.org/pandas-docs/stable/user_guide/indexing.html#returning-a-view-versus-a-copy\n",
      "  df_2021['EdLevel'].replace('nan', 'Bachelors', inplace=True)\n"
     ]
    }
   ],
   "source": [
    "#Refactoring EdLevel\n",
    "def refactor_ed(df):\n",
    "    '''function to change Education level category to Bachelors, Masters, Professional, Associate, Doctorate, No Degree'''\n",
    "    conditions_ed = [(df['EdLevel'] == 'Associate degree (A.A., A.S., etc.)'),\n",
    "                    (df['EdLevel'] == 'Bachelor’s degree (B.A., B.S., B.Eng., etc.)'),\n",
    "                    (df['EdLevel'] == 'Master’s degree (M.A., M.S., M.Eng., MBA, etc.)'),\n",
    "                    (df['EdLevel'] == 'Professional degree (JD, MD, etc.)'),   \n",
    "                    (df['EdLevel'] == 'Other doctoral degree (Ph.D., Ed.D., etc.)'),\n",
    "                    (df['EdLevel'] == 'Some college/university study without earning a degree') \n",
    "                    | (df['EdLevel'] == 'Secondary school (e.g. American high school, German Realschule or Gymnasium, etc.)') \n",
    "                    | (df['EdLevel'] == 'Primary/elementary school')\n",
    "                    | (df['EdLevel'] == 'I never completed any formal education')]\n",
    "    \n",
    "    choices_ed = ['Associate', 'Bachelors', 'Masters', 'Professional',  'Doctorate', 'No Degree']\n",
    "    df['EdLevel'] = np.select(conditions_ed, choices_ed, default = np.NaN)\n",
    "    return df\n",
    "\n",
    "# applying function to subsets\n",
    "df_2021 = refactor_ed(df_2021)\n",
    "#Assigining the surveyors who havent mentioned their education level to Bachelor’s degree\n",
    "df_2021['EdLevel'].replace('nan', 'Bachelors', inplace=True)"
   ]
  },
  {
   "cell_type": "code",
   "execution_count": 22,
   "id": "5c5e9b2a",
   "metadata": {},
   "outputs": [
    {
     "data": {
      "text/plain": [
       "EdLevel\n",
       "Bachelors       37271\n",
       "No Degree       22602\n",
       "Masters         17512\n",
       "Doctorate        2567\n",
       "Associate        2231\n",
       "Professional     1256\n",
       "Name: count, dtype: int64"
      ]
     },
     "execution_count": 22,
     "metadata": {},
     "output_type": "execute_result"
    }
   ],
   "source": [
    "df_2021['EdLevel'].value_counts()"
   ]
  },
  {
   "cell_type": "markdown",
   "id": "24d02dea",
   "metadata": {},
   "source": [
    "## DevType"
   ]
  },
  {
   "cell_type": "code",
   "execution_count": 23,
   "id": "2883a917",
   "metadata": {},
   "outputs": [
    {
     "data": {
      "text/plain": [
       "16955"
      ]
     },
     "execution_count": 23,
     "metadata": {},
     "output_type": "execute_result"
    }
   ],
   "source": [
    "df_2021['DevType'].isnull().sum()"
   ]
  },
  {
   "cell_type": "code",
   "execution_count": 24,
   "id": "9b8999a0",
   "metadata": {},
   "outputs": [
    {
     "data": {
      "text/plain": [
       "DevType\n",
       "Developer, full-stack                                             8601\n",
       "Developer, back-end                                               5467\n",
       "Developer, front-end                                              2402\n",
       "Developer, front-end;Developer, full-stack;Developer, back-end    2141\n",
       "Developer, full-stack;Developer, back-end                         1774\n",
       "Developer, mobile                                                 1744\n",
       "Other (please specify):                                           1704\n",
       "Developer, front-end;Developer, full-stack                        1003\n",
       "Developer, desktop or enterprise applications                      870\n",
       "Student                                                            798\n",
       "Name: count, dtype: int64"
      ]
     },
     "execution_count": 24,
     "metadata": {},
     "output_type": "execute_result"
    }
   ],
   "source": [
    "df_2021['DevType'].value_counts().nlargest(10)"
   ]
  },
  {
   "cell_type": "code",
   "execution_count": 25,
   "id": "002ebc86",
   "metadata": {},
   "outputs": [
    {
     "name": "stderr",
     "output_type": "stream",
     "text": [
      "/tmp/ipykernel_39208/3143970236.py:1: SettingWithCopyWarning: \n",
      "A value is trying to be set on a copy of a slice from a DataFrame.\n",
      "Try using .loc[row_indexer,col_indexer] = value instead\n",
      "\n",
      "See the caveats in the documentation: https://pandas.pydata.org/pandas-docs/stable/user_guide/indexing.html#returning-a-view-versus-a-copy\n",
      "  df_2021['DevType'] = df_2021['DevType'].bfill().ffill()\n"
     ]
    }
   ],
   "source": [
    "df_2021['DevType'] = df_2021['DevType'].bfill().ffill()"
   ]
  },
  {
   "cell_type": "code",
   "execution_count": 26,
   "id": "77bde35a",
   "metadata": {},
   "outputs": [
    {
     "data": {
      "text/plain": [
       "DevType\n",
       "Developer, full-stack                                             10806\n",
       "Developer, back-end                                                6869\n",
       "Developer, front-end                                               3036\n",
       "Developer, front-end;Developer, full-stack;Developer, back-end     2660\n",
       "Developer, full-stack;Developer, back-end                          2250\n",
       "Other (please specify):                                            2213\n",
       "Developer, mobile                                                  2180\n",
       "Developer, front-end;Developer, full-stack                         1265\n",
       "Developer, desktop or enterprise applications                      1086\n",
       "Student                                                            1014\n",
       "Name: count, dtype: int64"
      ]
     },
     "execution_count": 26,
     "metadata": {},
     "output_type": "execute_result"
    }
   ],
   "source": [
    "df_2021['DevType'].value_counts().nlargest(10)"
   ]
  },
  {
   "cell_type": "code",
   "execution_count": 27,
   "id": "7e975c44",
   "metadata": {},
   "outputs": [
    {
     "data": {
      "text/plain": [
       "0"
      ]
     },
     "execution_count": 27,
     "metadata": {},
     "output_type": "execute_result"
    }
   ],
   "source": [
    "df_2021['DevType'].isnull().sum()"
   ]
  },
  {
   "cell_type": "code",
   "execution_count": 28,
   "id": "57b9506b",
   "metadata": {},
   "outputs": [
    {
     "data": {
      "text/html": [
       "<div>\n",
       "<style scoped>\n",
       "    .dataframe tbody tr th:only-of-type {\n",
       "        vertical-align: middle;\n",
       "    }\n",
       "\n",
       "    .dataframe tbody tr th {\n",
       "        vertical-align: top;\n",
       "    }\n",
       "\n",
       "    .dataframe thead th {\n",
       "        text-align: right;\n",
       "    }\n",
       "</style>\n",
       "<table border=\"1\" class=\"dataframe\">\n",
       "  <thead>\n",
       "    <tr style=\"text-align: right;\">\n",
       "      <th></th>\n",
       "      <th>Age</th>\n",
       "      <th>Gender</th>\n",
       "      <th>Country</th>\n",
       "      <th>DevType</th>\n",
       "      <th>EdLevel</th>\n",
       "      <th>Currency</th>\n",
       "      <th>SalaryUSD</th>\n",
       "      <th>Employment</th>\n",
       "      <th>Ethnicity</th>\n",
       "      <th>LanguageHaveWorkedWith</th>\n",
       "      <th>LanguageWantToWorkWith</th>\n",
       "      <th>Profession</th>\n",
       "      <th>MentalHealth</th>\n",
       "      <th>YearsCodePro</th>\n",
       "    </tr>\n",
       "  </thead>\n",
       "  <tbody>\n",
       "  </tbody>\n",
       "</table>\n",
       "</div>"
      ],
      "text/plain": [
       "Empty DataFrame\n",
       "Columns: [Age, Gender, Country, DevType, EdLevel, Currency, SalaryUSD, Employment, Ethnicity, LanguageHaveWorkedWith, LanguageWantToWorkWith, Profession, MentalHealth, YearsCodePro]\n",
       "Index: []"
      ]
     },
     "execution_count": 28,
     "metadata": {},
     "output_type": "execute_result"
    }
   ],
   "source": [
    "df_2021[df_2021['DevType'].isnull()]"
   ]
  },
  {
   "cell_type": "markdown",
   "id": "2bba56a9",
   "metadata": {},
   "source": [
    "## Ethnicity"
   ]
  },
  {
   "cell_type": "code",
   "execution_count": 29,
   "id": "3024b79d",
   "metadata": {},
   "outputs": [
    {
     "data": {
      "text/plain": [
       "3975"
      ]
     },
     "execution_count": 29,
     "metadata": {},
     "output_type": "execute_result"
    }
   ],
   "source": [
    "df_2021['Ethnicity'].isnull().sum()"
   ]
  },
  {
   "cell_type": "code",
   "execution_count": 30,
   "id": "c54988fd",
   "metadata": {},
   "outputs": [
    {
     "data": {
      "text/plain": [
       "Ethnicity\n",
       "White or of European descent    42671\n",
       "South Asian                      8328\n",
       "Hispanic or Latino/a/x           3585\n",
       "Southeast Asian                  3224\n",
       "Prefer not to say                3062\n",
       "Middle Eastern                   2985\n",
       "East Asian                       2947\n",
       "I don't know                     2140\n",
       "Black or of African descent      2085\n",
       "Or, in your own words:           2014\n",
       "Name: count, dtype: int64"
      ]
     },
     "execution_count": 30,
     "metadata": {},
     "output_type": "execute_result"
    }
   ],
   "source": [
    "#count number of each Ethnicity\n",
    "df_2021.groupby('Ethnicity')['Ethnicity'].count()\n",
    "df_2021['Ethnicity'].value_counts().nlargest(10)"
   ]
  },
  {
   "cell_type": "code",
   "execution_count": 31,
   "id": "cfbbd117",
   "metadata": {},
   "outputs": [],
   "source": [
    "#combine Ethnicity by str.match(if each string starts with a match of a regular expression pattern)\n",
    "df_2021.loc[df['Ethnicity'].str.match('Biracial') == True, 'Ethnicity'] = 'Biracial'\n",
    "df_2021.loc[df['Ethnicity'].str.match('Black or of African descent') == True, 'Ethnicity'] = 'Black or of African descent'\n",
    "df_2021.loc[df['Ethnicity'].str.match('East Asian') == True, 'Ethnicity'] = 'East Asian'\n",
    "df_2021.loc[df['Ethnicity'].str.match('Hispanic or Latino') == True, 'Ethnicity'] = 'Hispanic or Latino'\n",
    "df_2021.loc[df['Ethnicity'].str.match('Indigenous') == True, 'Ethnicity'] = 'Indigenous'\n",
    "df_2021.loc[df['Ethnicity'].str.match('Middle Eastern') == True, 'Ethnicity'] = 'Middle Eastern'\n",
    "df_2021.loc[df['Ethnicity'].str.match('South Asian') == True, 'Ethnicity'] = 'South Asian'\n",
    "df_2021.loc[df['Ethnicity'].str.match('White or of European descent') == True, 'Ethnicity'] = 'White or of European descent'\n",
    "df_2021.loc[df['Ethnicity'].str.match('Multiracial') == True, 'Ethnicity'] = 'Multiracial'"
   ]
  },
  {
   "cell_type": "code",
   "execution_count": 32,
   "id": "02635965",
   "metadata": {},
   "outputs": [
    {
     "data": {
      "text/plain": [
       "Ethnicity\n",
       "White or of European descent                                                         46434\n",
       "South Asian                                                                           8637\n",
       "Hispanic or Latino                                                                    3789\n",
       "Southeast Asian                                                                       3224\n",
       "Middle Eastern                                                                        3151\n",
       "                                                                                     ...  \n",
       "I don't know;Multiracial;South Asian                                                     1\n",
       "Southeast Asian;Middle Eastern;Or, in your own words:;Black or of African descent        1\n",
       "I don't know;Southeast Asian;East Asian;Or, in your own words:                           1\n",
       "I don't know;Southeast Asian;South Asian;East Asian;Or, in your own words:               1\n",
       "Southeast Asian;Hispanic or Latino/a/x;East Asian;Biracial                               1\n",
       "Name: count, Length: 90, dtype: int64"
      ]
     },
     "execution_count": 32,
     "metadata": {},
     "output_type": "execute_result"
    }
   ],
   "source": [
    "df_2021.groupby('Ethnicity')['Ethnicity'].count() #11 groups of Ethnicity after combining \n",
    "df_2021['Ethnicity'].value_counts()"
   ]
  },
  {
   "cell_type": "code",
   "execution_count": 33,
   "id": "f94cfb85",
   "metadata": {},
   "outputs": [
    {
     "name": "stderr",
     "output_type": "stream",
     "text": [
      "/tmp/ipykernel_39208/2357935597.py:1: SettingWithCopyWarning: \n",
      "A value is trying to be set on a copy of a slice from a DataFrame.\n",
      "Try using .loc[row_indexer,col_indexer] = value instead\n",
      "\n",
      "See the caveats in the documentation: https://pandas.pydata.org/pandas-docs/stable/user_guide/indexing.html#returning-a-view-versus-a-copy\n",
      "  df_2021['Ethnicity']=df_2021.groupby(['Country'])['Ethnicity'].bfill().ffill()\n"
     ]
    }
   ],
   "source": [
    "df_2021['Ethnicity']=df_2021.groupby(['Country'])['Ethnicity'].bfill().ffill()"
   ]
  },
  {
   "cell_type": "code",
   "execution_count": 34,
   "id": "a3c1caa9",
   "metadata": {},
   "outputs": [
    {
     "data": {
      "text/plain": [
       "Ethnicity\n",
       "White or of European descent                                                         48188\n",
       "South Asian                                                                           9464\n",
       "Hispanic or Latino                                                                    3865\n",
       "Southeast Asian                                                                       3421\n",
       "Middle Eastern                                                                        3311\n",
       "                                                                                     ...  \n",
       "I don't know;Multiracial;South Asian                                                     1\n",
       "Southeast Asian;Middle Eastern;Or, in your own words:;Black or of African descent        1\n",
       "I don't know;Southeast Asian;East Asian;Or, in your own words:                           1\n",
       "I don't know;Southeast Asian;South Asian;East Asian;Or, in your own words:               1\n",
       "Southeast Asian;Hispanic or Latino/a/x;East Asian;Biracial                               1\n",
       "Name: count, Length: 90, dtype: int64"
      ]
     },
     "execution_count": 34,
     "metadata": {},
     "output_type": "execute_result"
    }
   ],
   "source": [
    "#count number of each Ethnicity\n",
    "df_2021.groupby('Ethnicity')['Ethnicity'].count()\n",
    "df_2021['Ethnicity'].value_counts()"
   ]
  },
  {
   "cell_type": "code",
   "execution_count": 35,
   "id": "872b09d8",
   "metadata": {},
   "outputs": [
    {
     "data": {
      "text/plain": [
       "0"
      ]
     },
     "execution_count": 35,
     "metadata": {},
     "output_type": "execute_result"
    }
   ],
   "source": [
    "df_2021['Ethnicity'].isnull().sum()"
   ]
  },
  {
   "cell_type": "markdown",
   "id": "0ba97bd7",
   "metadata": {},
   "source": [
    "## LanguageWantToWorkWith"
   ]
  },
  {
   "cell_type": "code",
   "execution_count": 36,
   "id": "9ebd5b51",
   "metadata": {},
   "outputs": [
    {
     "data": {
      "text/plain": [
       "6618"
      ]
     },
     "execution_count": 36,
     "metadata": {},
     "output_type": "execute_result"
    }
   ],
   "source": [
    "df_2021['LanguageWantToWorkWith'].isnull().sum()"
   ]
  },
  {
   "cell_type": "code",
   "execution_count": 37,
   "id": "aa487bcb",
   "metadata": {},
   "outputs": [
    {
     "data": {
      "text/plain": [
       "LanguageWantToWorkWith\n",
       "Python                                    1389\n",
       "Rust                                       821\n",
       "HTML/CSS;JavaScript;Node.js;TypeScript     812\n",
       "C#                                         700\n",
       "Java                                       512\n",
       "Go                                         497\n",
       "C++;Python                                 392\n",
       "Kotlin                                     371\n",
       "Swift                                      365\n",
       "Python;SQL                                 342\n",
       "Name: count, dtype: int64"
      ]
     },
     "execution_count": 37,
     "metadata": {},
     "output_type": "execute_result"
    }
   ],
   "source": [
    "df_2021['LanguageWantToWorkWith'].value_counts().nlargest(10)"
   ]
  },
  {
   "cell_type": "code",
   "execution_count": 38,
   "id": "f35ff2b2",
   "metadata": {},
   "outputs": [
    {
     "name": "stderr",
     "output_type": "stream",
     "text": [
      "/tmp/ipykernel_39208/3813594346.py:1: SettingWithCopyWarning: \n",
      "A value is trying to be set on a copy of a slice from a DataFrame.\n",
      "Try using .loc[row_indexer,col_indexer] = value instead\n",
      "\n",
      "See the caveats in the documentation: https://pandas.pydata.org/pandas-docs/stable/user_guide/indexing.html#returning-a-view-versus-a-copy\n",
      "  df_2021['LanguageWantToWorkWith']=df_2021['LanguageWantToWorkWith'].bfill().ffill()\n"
     ]
    }
   ],
   "source": [
    "df_2021['LanguageWantToWorkWith']=df_2021['LanguageWantToWorkWith'].bfill().ffill()"
   ]
  },
  {
   "cell_type": "code",
   "execution_count": 39,
   "id": "233dbc40",
   "metadata": {},
   "outputs": [
    {
     "data": {
      "text/plain": [
       "LanguageWantToWorkWith\n",
       "Python                                    1520\n",
       "Rust                                       891\n",
       "HTML/CSS;JavaScript;Node.js;TypeScript     880\n",
       "C#                                         766\n",
       "Java                                       552\n",
       "Go                                         541\n",
       "C++;Python                                 422\n",
       "Kotlin                                     395\n",
       "Swift                                      391\n",
       "Python;SQL                                 371\n",
       "Name: count, dtype: int64"
      ]
     },
     "execution_count": 39,
     "metadata": {},
     "output_type": "execute_result"
    }
   ],
   "source": [
    "df_2021['LanguageWantToWorkWith'].value_counts().nlargest(10)"
   ]
  },
  {
   "cell_type": "markdown",
   "id": "1474ba1e",
   "metadata": {},
   "source": [
    "## LanguageHaveWorkedWith"
   ]
  },
  {
   "cell_type": "code",
   "execution_count": 40,
   "id": "d8adc389",
   "metadata": {},
   "outputs": [
    {
     "data": {
      "text/plain": [
       "1082"
      ]
     },
     "execution_count": 40,
     "metadata": {},
     "output_type": "execute_result"
    }
   ],
   "source": [
    "df_2021['LanguageHaveWorkedWith'].isnull().sum()"
   ]
  },
  {
   "cell_type": "code",
   "execution_count": 41,
   "id": "82da9f59",
   "metadata": {},
   "outputs": [
    {
     "data": {
      "text/plain": [
       "LanguageHaveWorkedWith\n",
       "Python                                    1337\n",
       "HTML/CSS;JavaScript;Node.js;TypeScript     811\n",
       "Java                                       715\n",
       "HTML/CSS;JavaScript;PHP;SQL                674\n",
       "C#                                         597\n",
       "C#;HTML/CSS;JavaScript;SQL                 558\n",
       "HTML/CSS;JavaScript                        531\n",
       "HTML/CSS;JavaScript;Node.js                494\n",
       "HTML/CSS;JavaScript;TypeScript             491\n",
       "HTML/CSS;JavaScript;Python                 432\n",
       "Name: count, dtype: int64"
      ]
     },
     "execution_count": 41,
     "metadata": {},
     "output_type": "execute_result"
    }
   ],
   "source": [
    "df_2021['LanguageHaveWorkedWith'].value_counts().nlargest(10)"
   ]
  },
  {
   "cell_type": "code",
   "execution_count": 42,
   "id": "c60eb7b4",
   "metadata": {},
   "outputs": [
    {
     "name": "stderr",
     "output_type": "stream",
     "text": [
      "/tmp/ipykernel_39208/3371025579.py:1: SettingWithCopyWarning: \n",
      "A value is trying to be set on a copy of a slice from a DataFrame.\n",
      "Try using .loc[row_indexer,col_indexer] = value instead\n",
      "\n",
      "See the caveats in the documentation: https://pandas.pydata.org/pandas-docs/stable/user_guide/indexing.html#returning-a-view-versus-a-copy\n",
      "  df_2021['LanguageHaveWorkedWith']=df_2021['LanguageHaveWorkedWith'].bfill().ffill()\n"
     ]
    }
   ],
   "source": [
    "df_2021['LanguageHaveWorkedWith']=df_2021['LanguageHaveWorkedWith'].bfill().ffill()"
   ]
  },
  {
   "cell_type": "code",
   "execution_count": 43,
   "id": "e1127a60",
   "metadata": {},
   "outputs": [
    {
     "data": {
      "text/plain": [
       "0"
      ]
     },
     "execution_count": 43,
     "metadata": {},
     "output_type": "execute_result"
    }
   ],
   "source": [
    "df_2021['LanguageHaveWorkedWith'].isnull().sum()"
   ]
  },
  {
   "cell_type": "markdown",
   "id": "03275001",
   "metadata": {},
   "source": [
    "## MainBranch (Profession)"
   ]
  },
  {
   "cell_type": "code",
   "execution_count": 44,
   "id": "162b1f88",
   "metadata": {},
   "outputs": [
    {
     "data": {
      "text/plain": [
       "0"
      ]
     },
     "execution_count": 44,
     "metadata": {},
     "output_type": "execute_result"
    }
   ],
   "source": [
    "df_2021['Profession'].isnull().sum()"
   ]
  },
  {
   "cell_type": "code",
   "execution_count": 45,
   "id": "9304e436",
   "metadata": {},
   "outputs": [
    {
     "data": {
      "text/plain": [
       "Profession\n",
       "I am a developer by profession                                                   58153\n",
       "I am a student who is learning to code                                           12029\n",
       "I am not primarily a developer, but I write code sometimes as part of my work     6578\n",
       "I code primarily as a hobby                                                       4929\n",
       "I used to be a developer by profession, but no longer am                          1237\n",
       "None of these                                                                      513\n",
       "Name: Profession, dtype: int64"
      ]
     },
     "execution_count": 45,
     "metadata": {},
     "output_type": "execute_result"
    }
   ],
   "source": [
    "df_2021.groupby('Profession')['Profession'].count()\n"
   ]
  },
  {
   "cell_type": "code",
   "execution_count": 46,
   "id": "b276b0ff",
   "metadata": {},
   "outputs": [
    {
     "name": "stderr",
     "output_type": "stream",
     "text": [
      "/tmp/ipykernel_39208/2811998518.py:1: SettingWithCopyWarning: \n",
      "A value is trying to be set on a copy of a slice from a DataFrame\n",
      "\n",
      "See the caveats in the documentation: https://pandas.pydata.org/pandas-docs/stable/user_guide/indexing.html#returning-a-view-versus-a-copy\n",
      "  df_2021.dropna(subset=['Profession'], inplace = True)\n"
     ]
    }
   ],
   "source": [
    "df_2021.dropna(subset=['Profession'], inplace = True)"
   ]
  },
  {
   "cell_type": "code",
   "execution_count": 47,
   "id": "835c74d0",
   "metadata": {},
   "outputs": [
    {
     "name": "stderr",
     "output_type": "stream",
     "text": [
      "/tmp/ipykernel_39208/1594265416.py:13: SettingWithCopyWarning: \n",
      "A value is trying to be set on a copy of a slice from a DataFrame.\n",
      "Try using .loc[row_indexer,col_indexer] = value instead\n",
      "\n",
      "See the caveats in the documentation: https://pandas.pydata.org/pandas-docs/stable/user_guide/indexing.html#returning-a-view-versus-a-copy\n",
      "  df['Profession'] = np.select(conditions_prof, choices_prof, default=np.nan)\n"
     ]
    }
   ],
   "source": [
    "#Lets refactor column values of Profession column\n",
    "#refactoring profession column\n",
    "\n",
    "def refactor_prof(df):\n",
    "    '''function to change Profession category to Developer, Student, Non-Developer, Novoice, Ex-Developer'''\n",
    "    conditions_prof = [(df['Profession'] == 'I am a developer by profession'),\n",
    "                       (df['Profession'] == 'I am a student who is learning to code'),\n",
    "                       (df['Profession'] == 'I am not primarily a developer, but I write code sometimes as part of my work'),\n",
    "                       (df['Profession'] == 'I code primarily as a hobby'),\n",
    "                       (df['Profession'] == 'I used to be a developer by profession, but no longer am')]\n",
    "    \n",
    "    choices_prof = ['Developer', 'Student', 'Non developer', 'Novoice', 'Ex-Developer']\n",
    "    df['Profession'] = np.select(conditions_prof, choices_prof, default=np.nan)          \n",
    "    return df\n",
    "\n",
    "df_2021 = refactor_prof(df_2021)"
   ]
  },
  {
   "cell_type": "code",
   "execution_count": 48,
   "id": "dedba827",
   "metadata": {},
   "outputs": [
    {
     "data": {
      "text/plain": [
       "Profession\n",
       "Developer        58153\n",
       "Student          12029\n",
       "Non developer     6578\n",
       "Novoice           4929\n",
       "Ex-Developer      1237\n",
       "nan                513\n",
       "Name: count, dtype: int64"
      ]
     },
     "execution_count": 48,
     "metadata": {},
     "output_type": "execute_result"
    }
   ],
   "source": [
    "df_2021['Profession'].value_counts()"
   ]
  },
  {
   "cell_type": "markdown",
   "id": "bcf50961",
   "metadata": {},
   "source": [
    "## Country"
   ]
  },
  {
   "cell_type": "code",
   "execution_count": 49,
   "id": "4f437c36",
   "metadata": {},
   "outputs": [
    {
     "data": {
      "text/plain": [
       "Country\n",
       "Afghanistan                              65\n",
       "Albania                                  73\n",
       "Algeria                                  46\n",
       "Andorra                                  12\n",
       "Angola                                   27\n",
       "                                       ... \n",
       "Venezuela, Bolivarian Republic of...    104\n",
       "Viet Nam                                386\n",
       "Yemen                                    20\n",
       "Zambia                                   22\n",
       "Zimbabwe                                 36\n",
       "Name: Country, Length: 181, dtype: int64"
      ]
     },
     "execution_count": 49,
     "metadata": {},
     "output_type": "execute_result"
    }
   ],
   "source": [
    "df_2021.groupby('Country')['Country'].count()"
   ]
  },
  {
   "cell_type": "markdown",
   "id": "110792cd",
   "metadata": {},
   "source": [
    "## CompTotal (SalaryUSD)"
   ]
  },
  {
   "cell_type": "code",
   "execution_count": 50,
   "id": "bb393320",
   "metadata": {},
   "outputs": [
    {
     "data": {
      "text/plain": [
       "36256"
      ]
     },
     "execution_count": 50,
     "metadata": {},
     "output_type": "execute_result"
    }
   ],
   "source": [
    "df_2021['SalaryUSD'].isnull().sum()"
   ]
  },
  {
   "cell_type": "code",
   "execution_count": 51,
   "id": "93319301",
   "metadata": {},
   "outputs": [
    {
     "data": {
      "text/plain": [
       "SalaryUSD\n",
       "100000.0    1127\n",
       "50000.0      918\n",
       "120000.0     892\n",
       "60000.0      871\n",
       "80000.0      845\n",
       "Name: count, dtype: int64"
      ]
     },
     "execution_count": 51,
     "metadata": {},
     "output_type": "execute_result"
    }
   ],
   "source": [
    "df_2021['SalaryUSD'].value_counts().nlargest()"
   ]
  },
  {
   "cell_type": "code",
   "execution_count": 52,
   "id": "0aba85cd",
   "metadata": {},
   "outputs": [
    {
     "data": {
      "text/plain": [
       "Age                 EdLevel    Country                                             \n",
       "25-34 years old     No Degree  Canada                                                  1.265823e+72\n",
       "18-24 years old     Bachelors  India                                                   7.774538e+49\n",
       "65 years or older   Bachelors  United States of America                                2.121212e+38\n",
       "25-34 years old     Masters    United States of America                                1.303781e+26\n",
       "                    Bachelors  Netherlands                                             2.724750e+13\n",
       "18-24 years old     Bachelors  United Kingdom of Great Britain and Northern Ireland    2.167722e+13\n",
       "Under 18 years old  No Degree  Malaysia                                                2.737288e+10\n",
       "55-64 years old     No Degree  Belgium                                                 5.123468e+09\n",
       "Prefer not to say   Bachelors  Netherlands                                             5.000003e+09\n",
       "45-54 years old     Doctorate  Indonesia                                               2.000000e+09\n",
       "Name: SalaryUSD, dtype: float64"
      ]
     },
     "execution_count": 52,
     "metadata": {},
     "output_type": "execute_result"
    }
   ],
   "source": [
    "mean_salary = df_2021.groupby(['Age','EdLevel','Country'])['SalaryUSD'].mean()\n",
    "mean_salary.nlargest(10)"
   ]
  },
  {
   "cell_type": "code",
   "execution_count": 53,
   "id": "48382f3e",
   "metadata": {},
   "outputs": [
    {
     "name": "stderr",
     "output_type": "stream",
     "text": [
      "/tmp/ipykernel_39208/541491545.py:4: SettingWithCopyWarning: \n",
      "A value is trying to be set on a copy of a slice from a DataFrame.\n",
      "Try using .loc[row_indexer,col_indexer] = value instead\n",
      "\n",
      "See the caveats in the documentation: https://pandas.pydata.org/pandas-docs/stable/user_guide/indexing.html#returning-a-view-versus-a-copy\n",
      "  df_2021['SalaryUSD'] = df_2021['SalaryUSD'].fillna(means)\n"
     ]
    }
   ],
   "source": [
    "#df2020['SalaryUSD'] = df2020.groupby(['Age', 'EdLevel', 'Country'])['SalaryUSD'].transform(lambda grp: grp.fillna(np.mean(grp)))\n",
    "\n",
    "means = df_2021.groupby(['Age', 'EdLevel', 'Country'])['SalaryUSD'].transform('mean')\n",
    "df_2021['SalaryUSD'] = df_2021['SalaryUSD'].fillna(means)"
   ]
  },
  {
   "cell_type": "code",
   "execution_count": 54,
   "id": "0f339430",
   "metadata": {},
   "outputs": [
    {
     "data": {
      "text/plain": [
       "Age                 EdLevel    Country                                             \n",
       "25-34 years old     No Degree  Canada                                                  1.265823e+72\n",
       "18-24 years old     Bachelors  India                                                   7.774538e+49\n",
       "65 years or older   Bachelors  United States of America                                2.121212e+38\n",
       "25-34 years old     Masters    United States of America                                1.303781e+26\n",
       "                    Bachelors  Netherlands                                             2.724750e+13\n",
       "18-24 years old     Bachelors  United Kingdom of Great Britain and Northern Ireland    2.167722e+13\n",
       "Under 18 years old  No Degree  Malaysia                                                2.737288e+10\n",
       "55-64 years old     No Degree  Belgium                                                 5.123468e+09\n",
       "Prefer not to say   Bachelors  Netherlands                                             5.000003e+09\n",
       "45-54 years old     Doctorate  Indonesia                                               2.000000e+09\n",
       "Name: SalaryUSD, dtype: float64"
      ]
     },
     "execution_count": 54,
     "metadata": {},
     "output_type": "execute_result"
    }
   ],
   "source": [
    "mean_salary = df_2021.groupby(['Age','EdLevel','Country'])['SalaryUSD'].mean()\n",
    "mean_salary.nlargest(10)"
   ]
  },
  {
   "cell_type": "code",
   "execution_count": 55,
   "id": "f0af44b2",
   "metadata": {},
   "outputs": [
    {
     "data": {
      "text/plain": [
       "SalaryUSD\n",
       "7.774538e+49    1999\n",
       "1.000000e+05    1194\n",
       "1.254325e+06    1191\n",
       "2.514045e+05    1101\n",
       "1.826832e+04     971\n",
       "Name: count, dtype: int64"
      ]
     },
     "execution_count": 55,
     "metadata": {},
     "output_type": "execute_result"
    }
   ],
   "source": [
    "df_2021['SalaryUSD'].value_counts().nlargest()"
   ]
  },
  {
   "cell_type": "code",
   "execution_count": 56,
   "id": "5dabd0d3",
   "metadata": {},
   "outputs": [
    {
     "name": "stderr",
     "output_type": "stream",
     "text": [
      "/tmp/ipykernel_39208/1391507961.py:8: SettingWithCopyWarning: \n",
      "A value is trying to be set on a copy of a slice from a DataFrame\n",
      "\n",
      "See the caveats in the documentation: https://pandas.pydata.org/pandas-docs/stable/user_guide/indexing.html#returning-a-view-versus-a-copy\n",
      "  df_2021['SalaryUSD'].fillna(0, inplace=True)\n"
     ]
    },
    {
     "name": "stdout",
     "output_type": "stream",
     "text": [
      "\n",
      "'SalaryUSD' column after conversion to integers:\n",
      "0          4800\n",
      "1         13527\n",
      "2        188730\n",
      "3         51037\n",
      "4         62988\n",
      "          ...  \n",
      "83424    120000\n",
      "83425      1500\n",
      "83426    152756\n",
      "83427     86000\n",
      "83428     15000\n",
      "Name: SalaryUSD, Length: 83429, dtype: object\n"
     ]
    },
    {
     "name": "stderr",
     "output_type": "stream",
     "text": [
      "/tmp/ipykernel_39208/1391507961.py:11: SettingWithCopyWarning: \n",
      "A value is trying to be set on a copy of a slice from a DataFrame.\n",
      "Try using .loc[row_indexer,col_indexer] = value instead\n",
      "\n",
      "See the caveats in the documentation: https://pandas.pydata.org/pandas-docs/stable/user_guide/indexing.html#returning-a-view-versus-a-copy\n",
      "  df_2021['SalaryUSD'] = df_2021['SalaryUSD'].apply(lambda x: int(Decimal(x)))\n"
     ]
    }
   ],
   "source": [
    "from decimal import Decimal\n",
    "\n",
    "# Assuming df2021 is already defined and read from a CSV\n",
    "# If not, read the CSV file first\n",
    "# df2021 = pd.read_csv('your_file.csv')\n",
    "\n",
    "# Fill NaN values in 'SalaryUSD' column with 0\n",
    "df_2021['SalaryUSD'].fillna(0, inplace=True)\n",
    "\n",
    "# Convert the 'SalaryUSD' column to integers using Decimal for precision\n",
    "df_2021['SalaryUSD'] = df_2021['SalaryUSD'].apply(lambda x: int(Decimal(x)))\n",
    "\n",
    "# Display modified 'SalaryUSD' column\n",
    "print(\"\\n'SalaryUSD' column after conversion to integers:\")\n",
    "print(df_2021['SalaryUSD'].head(-10\n",
    "                              ))"
   ]
  },
  {
   "cell_type": "code",
   "execution_count": 57,
   "id": "d4d7515c",
   "metadata": {},
   "outputs": [
    {
     "name": "stderr",
     "output_type": "stream",
     "text": [
      "/tmp/ipykernel_39208/2314557933.py:1: SettingWithCopyWarning: \n",
      "A value is trying to be set on a copy of a slice from a DataFrame\n",
      "\n",
      "See the caveats in the documentation: https://pandas.pydata.org/pandas-docs/stable/user_guide/indexing.html#returning-a-view-versus-a-copy\n",
      "  df_2021.dropna(subset=['SalaryUSD'], inplace = True)\n"
     ]
    }
   ],
   "source": [
    "df_2021.dropna(subset=['SalaryUSD'], inplace = True)"
   ]
  },
  {
   "cell_type": "code",
   "execution_count": 58,
   "id": "b062b07f",
   "metadata": {},
   "outputs": [
    {
     "data": {
      "text/plain": [
       "0"
      ]
     },
     "execution_count": 58,
     "metadata": {},
     "output_type": "execute_result"
    }
   ],
   "source": [
    "df_2021['SalaryUSD'].isnull().sum()"
   ]
  },
  {
   "cell_type": "markdown",
   "id": "9703cea7",
   "metadata": {},
   "source": [
    "## Cleaned Dataset:2021_Survey"
   ]
  },
  {
   "cell_type": "code",
   "execution_count": 59,
   "id": "05839781",
   "metadata": {},
   "outputs": [
    {
     "name": "stdout",
     "output_type": "stream",
     "text": [
      "Age                        1032\n",
      "Gender                        0\n",
      "Country                       0\n",
      "DevType                       0\n",
      "EdLevel                       0\n",
      "Currency                  22359\n",
      "SalaryUSD                     0\n",
      "Employment                  116\n",
      "Ethnicity                     0\n",
      "LanguageHaveWorkedWith        0\n",
      "LanguageWantToWorkWith        0\n",
      "Profession                    0\n",
      "MentalHealth               6519\n",
      "YearsCodePro              22223\n",
      "dtype: int64\n"
     ]
    }
   ],
   "source": [
    "print(df_2021.isnull().sum())"
   ]
  },
  {
   "cell_type": "code",
   "execution_count": 60,
   "id": "b775221d",
   "metadata": {},
   "outputs": [
    {
     "name": "stderr",
     "output_type": "stream",
     "text": [
      "/tmp/ipykernel_39208/4279514726.py:1: SettingWithCopyWarning: \n",
      "A value is trying to be set on a copy of a slice from a DataFrame\n",
      "\n",
      "See the caveats in the documentation: https://pandas.pydata.org/pandas-docs/stable/user_guide/indexing.html#returning-a-view-versus-a-copy\n",
      "  df_2021.dropna(subset=['MentalHealth'], inplace = True)\n",
      "/tmp/ipykernel_39208/4279514726.py:2: SettingWithCopyWarning: \n",
      "A value is trying to be set on a copy of a slice from a DataFrame\n",
      "\n",
      "See the caveats in the documentation: https://pandas.pydata.org/pandas-docs/stable/user_guide/indexing.html#returning-a-view-versus-a-copy\n",
      "  df_2021.dropna(subset=['YearsCodePro'], inplace = True)\n",
      "/tmp/ipykernel_39208/4279514726.py:3: SettingWithCopyWarning: \n",
      "A value is trying to be set on a copy of a slice from a DataFrame\n",
      "\n",
      "See the caveats in the documentation: https://pandas.pydata.org/pandas-docs/stable/user_guide/indexing.html#returning-a-view-versus-a-copy\n",
      "  df_2021.dropna(subset=['Currency'], inplace = True)\n",
      "/tmp/ipykernel_39208/4279514726.py:4: SettingWithCopyWarning: \n",
      "A value is trying to be set on a copy of a slice from a DataFrame\n",
      "\n",
      "See the caveats in the documentation: https://pandas.pydata.org/pandas-docs/stable/user_guide/indexing.html#returning-a-view-versus-a-copy\n",
      "  df_2021.dropna(subset=['Age'], inplace = True)\n",
      "/tmp/ipykernel_39208/4279514726.py:5: SettingWithCopyWarning: \n",
      "A value is trying to be set on a copy of a slice from a DataFrame\n",
      "\n",
      "See the caveats in the documentation: https://pandas.pydata.org/pandas-docs/stable/user_guide/indexing.html#returning-a-view-versus-a-copy\n",
      "  df_2021.dropna(subset=['Employment'], inplace = True)\n"
     ]
    }
   ],
   "source": [
    "df_2021.dropna(subset=['MentalHealth'], inplace = True)\n",
    "df_2021.dropna(subset=['YearsCodePro'], inplace = True)\n",
    "df_2021.dropna(subset=['Currency'], inplace = True)\n",
    "df_2021.dropna(subset=['Age'], inplace = True)\n",
    "df_2021.dropna(subset=['Employment'], inplace = True)"
   ]
  },
  {
   "cell_type": "code",
   "execution_count": 61,
   "id": "333e6ce5",
   "metadata": {},
   "outputs": [],
   "source": [
    "#resetting the index values\n",
    "df_2021 = df_2021.reset_index(drop=True)"
   ]
  },
  {
   "cell_type": "code",
   "execution_count": 62,
   "id": "7c749946",
   "metadata": {},
   "outputs": [
    {
     "data": {
      "text/html": [
       "<div>\n",
       "<style scoped>\n",
       "    .dataframe tbody tr th:only-of-type {\n",
       "        vertical-align: middle;\n",
       "    }\n",
       "\n",
       "    .dataframe tbody tr th {\n",
       "        vertical-align: top;\n",
       "    }\n",
       "\n",
       "    .dataframe thead th {\n",
       "        text-align: right;\n",
       "    }\n",
       "</style>\n",
       "<table border=\"1\" class=\"dataframe\">\n",
       "  <thead>\n",
       "    <tr style=\"text-align: right;\">\n",
       "      <th></th>\n",
       "      <th>Age</th>\n",
       "      <th>Gender</th>\n",
       "      <th>Country</th>\n",
       "      <th>DevType</th>\n",
       "      <th>EdLevel</th>\n",
       "      <th>Currency</th>\n",
       "      <th>SalaryUSD</th>\n",
       "      <th>Employment</th>\n",
       "      <th>Ethnicity</th>\n",
       "      <th>LanguageHaveWorkedWith</th>\n",
       "      <th>LanguageWantToWorkWith</th>\n",
       "      <th>Profession</th>\n",
       "      <th>MentalHealth</th>\n",
       "      <th>YearsCodePro</th>\n",
       "    </tr>\n",
       "  </thead>\n",
       "  <tbody>\n",
       "    <tr>\n",
       "      <th>0</th>\n",
       "      <td>25-34 years old</td>\n",
       "      <td>Man</td>\n",
       "      <td>India</td>\n",
       "      <td>Developer, front-end</td>\n",
       "      <td>Bachelors</td>\n",
       "      <td>INR\\tIndian rupee</td>\n",
       "      <td>1254324</td>\n",
       "      <td>Employed part-time</td>\n",
       "      <td>South Asian</td>\n",
       "      <td>HTML/CSS;JavaScript</td>\n",
       "      <td>HTML/CSS;JavaScript</td>\n",
       "      <td>Developer</td>\n",
       "      <td>I have a concentration and/or memory disorder ...</td>\n",
       "      <td>4</td>\n",
       "    </tr>\n",
       "    <tr>\n",
       "      <th>1</th>\n",
       "      <td>25-34 years old</td>\n",
       "      <td>Man</td>\n",
       "      <td>Sweden</td>\n",
       "      <td>Data scientist or machine learning specialist</td>\n",
       "      <td>Masters</td>\n",
       "      <td>SEK\\tSwedish krona</td>\n",
       "      <td>42000</td>\n",
       "      <td>Employed full-time</td>\n",
       "      <td>White or of European descent</td>\n",
       "      <td>C++;Python</td>\n",
       "      <td>Haskell;Python</td>\n",
       "      <td>Developer</td>\n",
       "      <td>None of the above</td>\n",
       "      <td>4</td>\n",
       "    </tr>\n",
       "    <tr>\n",
       "      <th>2</th>\n",
       "      <td>25-34 years old</td>\n",
       "      <td>Man</td>\n",
       "      <td>United Kingdom of Great Britain and Northern I...</td>\n",
       "      <td>Developer, back-end</td>\n",
       "      <td>Bachelors</td>\n",
       "      <td>GBP\\tPound sterling</td>\n",
       "      <td>61029</td>\n",
       "      <td>Employed full-time</td>\n",
       "      <td>White or of European descent</td>\n",
       "      <td>C#;TypeScript</td>\n",
       "      <td>C#</td>\n",
       "      <td>Developer</td>\n",
       "      <td>None of the above</td>\n",
       "      <td>10</td>\n",
       "    </tr>\n",
       "    <tr>\n",
       "      <th>3</th>\n",
       "      <td>25-34 years old</td>\n",
       "      <td>Man</td>\n",
       "      <td>Spain</td>\n",
       "      <td>Developer, back-end</td>\n",
       "      <td>Bachelors</td>\n",
       "      <td>EUR European Euro</td>\n",
       "      <td>43000</td>\n",
       "      <td>Employed full-time</td>\n",
       "      <td>White or of European descent</td>\n",
       "      <td>Bash/Shell;HTML/CSS;JavaScript;Node.js;SQL;Typ...</td>\n",
       "      <td>C++;Clojure;JavaScript;Node.js;Rust;SQL;TypeSc...</td>\n",
       "      <td>Developer</td>\n",
       "      <td>None of the above</td>\n",
       "      <td>5</td>\n",
       "    </tr>\n",
       "    <tr>\n",
       "      <th>4</th>\n",
       "      <td>25-34 years old</td>\n",
       "      <td>Man</td>\n",
       "      <td>Germany</td>\n",
       "      <td>Developer, desktop or enterprise applications;...</td>\n",
       "      <td>Masters</td>\n",
       "      <td>EUR European Euro</td>\n",
       "      <td>71500</td>\n",
       "      <td>Employed full-time</td>\n",
       "      <td>White or of European descent</td>\n",
       "      <td>C;C++;Java;Perl;Ruby</td>\n",
       "      <td>Rust</td>\n",
       "      <td>Developer</td>\n",
       "      <td>Prefer not to say</td>\n",
       "      <td>6</td>\n",
       "    </tr>\n",
       "  </tbody>\n",
       "</table>\n",
       "</div>"
      ],
      "text/plain": [
       "               Age Gender                                            Country  \\\n",
       "0  25-34 years old    Man                                              India   \n",
       "1  25-34 years old    Man                                             Sweden   \n",
       "2  25-34 years old    Man  United Kingdom of Great Britain and Northern I...   \n",
       "3  25-34 years old    Man                                              Spain   \n",
       "4  25-34 years old    Man                                            Germany   \n",
       "\n",
       "                                             DevType    EdLevel  \\\n",
       "0                               Developer, front-end  Bachelors   \n",
       "1      Data scientist or machine learning specialist    Masters   \n",
       "2                                Developer, back-end  Bachelors   \n",
       "3                                Developer, back-end  Bachelors   \n",
       "4  Developer, desktop or enterprise applications;...    Masters   \n",
       "\n",
       "              Currency SalaryUSD          Employment  \\\n",
       "0    INR\\tIndian rupee   1254324  Employed part-time   \n",
       "1   SEK\\tSwedish krona     42000  Employed full-time   \n",
       "2  GBP\\tPound sterling     61029  Employed full-time   \n",
       "3    EUR European Euro     43000  Employed full-time   \n",
       "4    EUR European Euro     71500  Employed full-time   \n",
       "\n",
       "                      Ethnicity  \\\n",
       "0                   South Asian   \n",
       "1  White or of European descent   \n",
       "2  White or of European descent   \n",
       "3  White or of European descent   \n",
       "4  White or of European descent   \n",
       "\n",
       "                              LanguageHaveWorkedWith  \\\n",
       "0                                HTML/CSS;JavaScript   \n",
       "1                                         C++;Python   \n",
       "2                                      C#;TypeScript   \n",
       "3  Bash/Shell;HTML/CSS;JavaScript;Node.js;SQL;Typ...   \n",
       "4                               C;C++;Java;Perl;Ruby   \n",
       "\n",
       "                              LanguageWantToWorkWith Profession  \\\n",
       "0                                HTML/CSS;JavaScript  Developer   \n",
       "1                                     Haskell;Python  Developer   \n",
       "2                                                 C#  Developer   \n",
       "3  C++;Clojure;JavaScript;Node.js;Rust;SQL;TypeSc...  Developer   \n",
       "4                                               Rust  Developer   \n",
       "\n",
       "                                        MentalHealth YearsCodePro  \n",
       "0  I have a concentration and/or memory disorder ...            4  \n",
       "1                                  None of the above            4  \n",
       "2                                  None of the above           10  \n",
       "3                                  None of the above            5  \n",
       "4                                  Prefer not to say            6  "
      ]
     },
     "execution_count": 62,
     "metadata": {},
     "output_type": "execute_result"
    }
   ],
   "source": [
    "df_2021.head(5)"
   ]
  },
  {
   "cell_type": "code",
   "execution_count": 63,
   "id": "9cb1231d",
   "metadata": {},
   "outputs": [
    {
     "name": "stdout",
     "output_type": "stream",
     "text": [
      "<class 'pandas.core.frame.DataFrame'>\n",
      "RangeIndex: 55518 entries, 0 to 55517\n",
      "Data columns (total 14 columns):\n",
      " #   Column                  Non-Null Count  Dtype \n",
      "---  ------                  --------------  ----- \n",
      " 0   Age                     55518 non-null  object\n",
      " 1   Gender                  55518 non-null  object\n",
      " 2   Country                 55518 non-null  object\n",
      " 3   DevType                 55518 non-null  object\n",
      " 4   EdLevel                 55518 non-null  object\n",
      " 5   Currency                55518 non-null  object\n",
      " 6   SalaryUSD               55518 non-null  object\n",
      " 7   Employment              55518 non-null  object\n",
      " 8   Ethnicity               55518 non-null  object\n",
      " 9   LanguageHaveWorkedWith  55518 non-null  object\n",
      " 10  LanguageWantToWorkWith  55518 non-null  object\n",
      " 11  Profession              55518 non-null  object\n",
      " 12  MentalHealth            55518 non-null  object\n",
      " 13  YearsCodePro            55518 non-null  object\n",
      "dtypes: object(14)\n",
      "memory usage: 5.9+ MB\n"
     ]
    }
   ],
   "source": [
    "df_2021.info()#after cleaning the dataset"
   ]
  },
  {
   "cell_type": "markdown",
   "id": "d6a2bdf2",
   "metadata": {},
   "source": [
    "### After Cleaning Dataset 2021"
   ]
  },
  {
   "cell_type": "code",
   "execution_count": 64,
   "id": "246a93ca",
   "metadata": {},
   "outputs": [
    {
     "name": "stdout",
     "output_type": "stream",
     "text": [
      "Total :  777252\n",
      "Total missing :  0\n",
      "Missing Percentage:  0.0 %\n"
     ]
    }
   ],
   "source": [
    "#Find % of missing data\n",
    "missing_count = df_2021.isnull().sum() #number of missing\n",
    "total_cells = np.product(df_2021.shape) # number of cells (cols x rows)\n",
    "total_missing = missing_count.sum()\n",
    "missing_percent = (total_missing*100)/total_cells\n",
    "\n",
    "print('Total : ', total_cells)\n",
    "print('Total missing : ', total_missing)\n",
    "print('Missing Percentage: ', missing_percent, '%')"
   ]
  },
  {
   "cell_type": "markdown",
   "id": "8f7da137",
   "metadata": {},
   "source": [
    "# Visualization\n",
    "After cleaning the datasets, we started visualizations to analyze the datase"
   ]
  },
  {
   "cell_type": "markdown",
   "id": "84c53338",
   "metadata": {},
   "source": [
    "## To find whether there is any difference between men and women's income from latest stack overflow survey (2021)"
   ]
  },
  {
   "cell_type": "code",
   "execution_count": 65,
   "id": "3318e69a",
   "metadata": {},
   "outputs": [
    {
     "name": "stderr",
     "output_type": "stream",
     "text": [
      "/tmp/ipykernel_39208/3434910232.py:1: MatplotlibDeprecationWarning: The seaborn styles shipped by Matplotlib are deprecated since 3.6, as they no longer correspond to the styles shipped by seaborn. However, they will remain available as 'seaborn-v0_8-<style>'. Alternatively, directly use the seaborn API instead.\n",
      "  plt.style.use('seaborn-darkgrid')\n"
     ]
    }
   ],
   "source": [
    "plt.style.use('seaborn-darkgrid')\n",
    "plt.rcParams[\"figure.figsize\"] = (20,10)"
   ]
  },
  {
   "cell_type": "code",
   "execution_count": 66,
   "id": "048117d9",
   "metadata": {},
   "outputs": [],
   "source": [
    "#sns.boxplot('SalaryUSD', data=df2020, width=0.3) \n",
    "#Cleaning SalaryUSD's outliers\n",
    "df_2021 = df_2021[(df_2021['SalaryUSD'] < 200000)]"
   ]
  },
  {
   "cell_type": "code",
   "execution_count": 67,
   "id": "649e8036",
   "metadata": {},
   "outputs": [
    {
     "data": {
      "text/plain": [
       "Text(0.5, 1.0, 'Income vs Gender')"
      ]
     },
     "execution_count": 67,
     "metadata": {},
     "output_type": "execute_result"
    },
    {
     "data": {
      "image/png": "[encoded data removed]",
      "text/plain": [
       "<Figure size 2000x1000 with 1 Axes>"
      ]
     },
     "metadata": {},
     "output_type": "display_data"
    }
   ],
   "source": [
    "sns.boxplot(x ='Gender', y='SalaryUSD', data=df_2021)\n",
    "plt.title('Income vs Gender', fontsize = 14)"
   ]
  },
  {
   "cell_type": "code",
   "execution_count": null,
   "id": "7927fcf3",
   "metadata": {},
   "outputs": [],
   "source": [
    "### **Analysis**<br>\n",
    "There is a little bit of difference between Gender and income they received respectively. Men tend to receive more salary than women from the above analysis."
   ]
  }
 ],
 "metadata": {
  "kernelspec": {
   "display_name": "Python 3 (ipykernel)",
   "language": "python",
   "name": "python3"
  },
  "language_info": {
   "codemirror_mode": {
    "name": "ipython",
    "version": 3
   },
   "file_extension": ".py",
   "mimetype": "text/x-python",
   "name": "python",
   "nbconvert_exporter": "python",
   "pygments_lexer": "ipython3",
   "version": "3.10.12"
  }
 },
 "nbformat": 4,
 "nbformat_minor": 5
}
